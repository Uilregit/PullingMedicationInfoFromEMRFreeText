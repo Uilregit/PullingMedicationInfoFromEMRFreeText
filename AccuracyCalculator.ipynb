{
 "cells": [
  {
   "cell_type": "code",
   "execution_count": 146,
   "metadata": {},
   "outputs": [
    {
     "name": "stdout",
     "output_type": "stream",
     "text": [
      "                    Meds\n",
      "0                    NaN\n",
      "1                 nitros\n",
      "2     education, insulin\n",
      "3  ivlabs, antibiotitics\n",
      "4                    NaN\n",
      "                                                   0\n",
      "0  brain,side,time,obs,dr,gc,face,woden,bit,close...\n",
      "1  assistance,need,come,monitoring,glaucoma,strok...\n",
      "2  adjust,dose,bgls,tomorrow,dr,cholesterol,bit,i...\n",
      "3  renal,appointment,tom,last,outpatient,course,a...\n",
      "4  regimen,come,arrythmia,week,smith,new,history,...\n"
     ]
    }
   ],
   "source": [
    "import pandas as pd\n",
    "\n",
    "truth = pd.read_csv(\"LabeledAll.csv\", index_col = 0)\n",
    "guess = pd.read_csv(\"tokenminer_results.csv\", header = 0)\n",
    "guess = pd.DataFrame(guess.iloc[:,1])\n",
    "\n",
    "print (truth.head())\n",
    "print (guess.head())"
   ]
  },
  {
   "cell_type": "code",
   "execution_count": 132,
   "metadata": {},
   "outputs": [],
   "source": [
    "import Levenshtein as lv\n",
    "def checkIfLabelsInList (labels, target, threshold):\n",
    "    if labels == [\"\"]:\n",
    "        return []\n",
    "    else:\n",
    "        labels = [i.lower() for i in labels]\n",
    "    if target == [\"\"]:\n",
    "        return [False for i in labels]\n",
    "    output = []\n",
    "    for item in labels:\n",
    "        if item in target:   #if exact match then return 0\n",
    "            output += [True]\n",
    "        else:                   #if not an exact match\n",
    "            levenDist = []\n",
    "            wordsInLabels = len(item.split(\" \"))  #checks for multiword labels\n",
    "            for i in range(len(target)-wordsInLabels+1):\n",
    "                levenDist += [lv.distance(item, \" \".join(target[i:i+wordsInLabels]))]    #checks for misspellings\n",
    "            \"\"\" #Debug Prints\n",
    "            print (item)\n",
    "            print (target)\n",
    "            print (levenDist)\n",
    "            print (\"#################\")\n",
    "            \"\"\"\n",
    "            if (min(levenDist)/float(len(item)) <= threshold):\n",
    "                output += [True]\n",
    "            else:\n",
    "                output += [False]\n",
    "    return output"
   ]
  },
  {
   "cell_type": "code",
   "execution_count": 147,
   "metadata": {},
   "outputs": [
    {
     "name": "stdout",
     "output_type": "stream",
     "text": [
      "True Positives: 1372\n",
      "False Positives: 32441\n",
      "False Negatives: 350\n",
      "Precision: 0.04057610978026203\n",
      "Recall: 0.7967479674796748\n",
      "F1: 0.01930491065147038\n"
     ]
    }
   ],
   "source": [
    "truePositives = 0\n",
    "totalGuessList = 0\n",
    "totalTruthList = 0\n",
    "for i in range(len(guess)):\n",
    "    try:\n",
    "        guessList = guess.iloc[i].values[0].replace(\",\",\" \").split(\" \")\n",
    "    except AttributeError:\n",
    "        guessList = [\"\"]\n",
    "    try:\n",
    "        truthList = truth.iloc[i].values[0].replace(\", \",\" \").split(\" \")\n",
    "    except AttributeError:\n",
    "        truthList = [\"\"]\n",
    "    truePositives += sum(checkIfLabelsInList(guessList, truthList, 0.2))\n",
    "    totalGuessList += len(guessList)\n",
    "    totalTruthList += len(truthList)\n",
    "\n",
    "falsePositives = totalGuessList - truePositives\n",
    "falseNegatives = totalTruthList - truePositives\n",
    "precision = truePositives/float(totalGuessList)\n",
    "recall = truePositives/float(totalTruthList)\n",
    "\n",
    "print (\"True Positives:\", truePositives)\n",
    "print (\"False Positives:\", falsePositives)\n",
    "print (\"False Negatives:\", falseNegatives)\n",
    "print (\"Precision:\", precision)\n",
    "print (\"Recall:\", recall)\n",
    "print (\"F1:\", 0.5*precision*recall/(precision+recall))"
   ]
  },
  {
   "cell_type": "code",
   "execution_count": 108,
   "metadata": {},
   "outputs": [
    {
     "data": {
      "text/plain": [
       "[False,\n",
       " False,\n",
       " False,\n",
       " False,\n",
       " False,\n",
       " False,\n",
       " False,\n",
       " False,\n",
       " False,\n",
       " False,\n",
       " False,\n",
       " False,\n",
       " False,\n",
       " False,\n",
       " True,\n",
       " False,\n",
       " False,\n",
       " True,\n",
       " False,\n",
       " False,\n",
       " False,\n",
       " False,\n",
       " True,\n",
       " False,\n",
       " False,\n",
       " False,\n",
       " False,\n",
       " True,\n",
       " False,\n",
       " False,\n",
       " False,\n",
       " False,\n",
       " False,\n",
       " False,\n",
       " False,\n",
       " False,\n",
       " False,\n",
       " False,\n",
       " False,\n",
       " False,\n",
       " False,\n",
       " False,\n",
       " False]"
      ]
     },
     "execution_count": 108,
     "metadata": {},
     "output_type": "execute_result"
    }
   ],
   "source": [
    "checkIfLabelsInList (['note', 'dose', 'caring', 'review', 'doctor', 'bgls', 'childhood', 'high', 'dr', 'bad', 'bp', 'range', 'dm', 'liu', 'insulin', 'normal', 'next', 'diabetic', 'problem', 'bgl', 'self', 'type', 'diabetes', 'ambulant', 'come', 'da', 'blood', 'educator', 'team', 'history', 'ask', 'management', 'much', 'referral', 'depend', 'care', 'silva', 'scale', 'sugar', 'trend', 'hpn', 'slide', 'variable'],['diabetic', 'educator', 'insulin'],2)"
   ]
  },
  {
   "cell_type": "code",
   "execution_count": 111,
   "metadata": {},
   "outputs": [
    {
     "name": "stdout",
     "output_type": "stream",
     "text": [
      "8\n"
     ]
    }
   ],
   "source": [
    "print(len(\"diabetes\"))"
   ]
  }
 ],
 "metadata": {
  "kernelspec": {
   "display_name": "Python 3",
   "language": "python",
   "name": "python3"
  },
  "language_info": {
   "codemirror_mode": {
    "name": "ipython",
    "version": 3
   },
   "file_extension": ".py",
   "mimetype": "text/x-python",
   "name": "python",
   "nbconvert_exporter": "python",
   "pygments_lexer": "ipython3",
   "version": "3.6.3"
  }
 },
 "nbformat": 4,
 "nbformat_minor": 2
}
