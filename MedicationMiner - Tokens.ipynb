{
 "cells": [
  {
   "cell_type": "code",
   "execution_count": 169,
   "metadata": {},
   "outputs": [
    {
     "name": "stdout",
     "output_type": "stream",
     "text": [
      "   Unnamed: 0                                           TextOrig  \\\n",
      "0           0   Bed eight, Michael I Wu. Forty-eight years un...   \n",
      "1           1   Vera Abbott, 93, bed four, under Dr Liu came ...   \n",
      "2           2   Cindy Benedictos, bed 1, under Dr Smtih, came...   \n",
      "3           3   This is bed 4. Jane morgan, 24, under Dr Tiln...   \n",
      "4           4   Ramanathan Nisha Pillai, bed 1, 46 years old ...   \n",
      "\n",
      "                                           TextToken                 Labels  \n",
      "0  bed eight michael wu forty eight year under dr...                    NaN  \n",
      "1  vera abbott bed four under dr liu come in with...                 nitros  \n",
      "2  cindy benedictos bed under dr smtih come in fo...     education, insulin  \n",
      "3  bed jane morgan under dr tilney with acute ren...  ivlabs, antibiotitics  \n",
      "4  ramanathan nisha pillai bed year old under dr ...                    NaN  \n",
      "   Unnamed: 0  N=1  N=2  N=3  N=4  N=5   N=6   N=7   N=8   N=9\n",
      "0          mg  347  528  639  793  981  1095  1240  1386  1499\n",
      "1          on  229  389  464  554  646   731   796   856   906\n",
      "2       daily  132  218  301  370  445   490   561   613   666\n",
      "3         day   77  129  172  237  303   344   401   451   496\n",
      "4         for   68  142  196  245  291   347   403   461   514\n",
      "5          qd   63   97  124  152  187   202   231   258   277\n",
      "6     regular   60   77   92  104  118   122   136   141   144\n",
      "7  medication   60   78  109  143  178   206   237   261   284\n",
      "8         prn   59   90  117  142  169   193   207   224   239\n",
      "9        with   48   96  136  182  239   291   344   404   466\n"
     ]
    },
    {
     "ename": "AttributeError",
     "evalue": "'numpy.ndarray' object has no attribute 'head'",
     "output_type": "error",
     "traceback": [
      "\u001b[1;31m---------------------------------------------------------------------------\u001b[0m",
      "\u001b[1;31mAttributeError\u001b[0m                            Traceback (most recent call last)",
      "\u001b[1;32m<ipython-input-169-b1c51b2f7452>\u001b[0m in \u001b[0;36m<module>\u001b[1;34m()\u001b[0m\n\u001b[0;32m      8\u001b[0m \u001b[0mprint\u001b[0m \u001b[1;33m(\u001b[0m\u001b[0mdata\u001b[0m\u001b[1;33m.\u001b[0m\u001b[0mhead\u001b[0m\u001b[1;33m(\u001b[0m\u001b[1;33m)\u001b[0m\u001b[1;33m)\u001b[0m\u001b[1;33m\u001b[0m\u001b[0m\n\u001b[0;32m      9\u001b[0m \u001b[0mprint\u001b[0m \u001b[1;33m(\u001b[0m\u001b[0mkeyTokens\u001b[0m\u001b[1;33m.\u001b[0m\u001b[0mhead\u001b[0m\u001b[1;33m(\u001b[0m\u001b[1;36m10\u001b[0m\u001b[1;33m)\u001b[0m\u001b[1;33m)\u001b[0m\u001b[1;33m\u001b[0m\u001b[0m\n\u001b[1;32m---> 10\u001b[1;33m \u001b[0mprint\u001b[0m \u001b[1;33m(\u001b[0m\u001b[0mantiTokens\u001b[0m\u001b[1;33m.\u001b[0m\u001b[0mhead\u001b[0m\u001b[1;33m(\u001b[0m\u001b[1;33m)\u001b[0m\u001b[1;33m)\u001b[0m\u001b[1;33m\u001b[0m\u001b[0m\n\u001b[0m\u001b[0;32m     11\u001b[0m \u001b[1;33m\u001b[0m\u001b[0m\n\u001b[0;32m     12\u001b[0m \u001b[1;32mfor\u001b[0m \u001b[0mi\u001b[0m \u001b[1;32min\u001b[0m \u001b[0mrange\u001b[0m\u001b[1;33m(\u001b[0m\u001b[0mlen\u001b[0m\u001b[1;33m(\u001b[0m\u001b[0mkeyTokens\u001b[0m\u001b[1;33m[\u001b[0m\u001b[1;34m\"N=1\"\u001b[0m\u001b[1;33m]\u001b[0m\u001b[1;33m)\u001b[0m\u001b[1;33m)\u001b[0m\u001b[1;33m:\u001b[0m\u001b[1;33m\u001b[0m\u001b[0m\n",
      "\u001b[1;31mAttributeError\u001b[0m: 'numpy.ndarray' object has no attribute 'head'"
     ]
    }
   ],
   "source": [
    "import pandas as pd\n",
    "\n",
    "data = pd.read_csv(\"DataAll.csv\")\n",
    "keyTokens = pd.read_csv(\"NeighbourhoodCounts.csv\")\n",
    "antiTokens = pd.read_csv(\"AntiNeighbourCount.csv\", header = None)\n",
    "antiTokens = antiTokens.iloc[:,0].values\n",
    "\n",
    "print (data.head())\n",
    "print (keyTokens.head(10))\n",
    "print (antiTokens.head())\n",
    "\n",
    "for i in range(len(keyTokens[\"N=1\"])):\n",
    "    if (keyTokens[\"N=1\"][0:i].sum()/float(keyTokens[\"N=1\"].sum()) >=0.7):\n",
    "        print (\"---\")\n",
    "        print(i)\n",
    "        break"
   ]
  },
  {
   "cell_type": "code",
   "execution_count": 83,
   "metadata": {
    "collapsed": true
   },
   "outputs": [],
   "source": [
    "# getting to see if the words are nouns, adverbs, adjectives\n",
    "from nltk.corpus import wordnet as wn\n",
    "\n",
    "# WordNet POS tags are: NOUN = 'n', ADJ = 's', VERB = 'v', ADV = 'r', ADJ_SAT = 'a'\n",
    "# Descriptions (c) https://web.stanford.edu/~jurafsky/slp3/10.pdf\n",
    "tag_map = {\n",
    "        'JJ':wn.ADJ, # adjective (yellow)                         \n",
    "        'NN':wn.NOUN, # noun, sing. or mass (llama)          \n",
    "        'NNS':wn.NOUN, # noun, plural (llamas)                  \n",
    "}\n",
    "\n",
    "def get_wordnet_pos(tag):\n",
    "    try:\n",
    "        if tag_map[tag] != None:\n",
    "            return tag_map[tag]\n",
    "    except:\n",
    "        return None\n",
    "    return None"
   ]
  },
  {
   "cell_type": "code",
   "execution_count": 84,
   "metadata": {},
   "outputs": [],
   "source": [
    "import nltk\n",
    "\n",
    "def GetNoun (tokens):\n",
    "    tokens = nltk.pos_tag(tokens)\n",
    "    output = set()\n",
    "    for i in tokens:\n",
    "        if get_wordnet_pos(i[1]) == wn.NOUN:\n",
    "            output.add(i[0])\n",
    "    if len(output) >= 0:\n",
    "        return list(output)"
   ]
  },
  {
   "cell_type": "code",
   "execution_count": 172,
   "metadata": {},
   "outputs": [],
   "source": [
    "def GetMeds (neighbourhood = 1, numberOfWords = 1):\n",
    "    meds = [[]]\n",
    "    counter = 0\n",
    "    for i in range(len(data)):\n",
    "        tokenized = data[\"TextToken\"][i].split(\" \")\n",
    "        nouns = []\n",
    "        for keyToken in keyTokens.iloc[:73,0]:\n",
    "            try:\n",
    "                while keyToken in tokenized:\n",
    "                    keyLocation = tokenized.index(keyToken)\n",
    "                    tokenWindow = tokenized[max(keyLocation-neighbourhood,0):keyLocation+neighbourhood+1]\n",
    "                    #tokenWindow = tokenized[keyLocation:keyLocation+neighbourhood+1]\n",
    "                    tokenWindow.remove(keyToken)\n",
    "                    for token in tokenWindow:\n",
    "                        if token in antiTokens:\n",
    "                            counter += 1\n",
    "                            break\n",
    "                    nouns += GetNoun(tokenWindow)\n",
    "                    tokenized.pop(keyLocation)\n",
    "            except ValueError:\n",
    "                pass\n",
    "        meds += [[\",\".join(list(set(nouns)))]]  \n",
    "    print (\"tokens removed:\",counter)\n",
    "    return meds\n",
    "            "
   ]
  },
  {
   "cell_type": "code",
   "execution_count": 174,
   "metadata": {},
   "outputs": [
    {
     "name": "stdout",
     "output_type": "stream",
     "text": [
      "tokens removed: 20703\n",
      "39.82011294364929\n"
     ]
    }
   ],
   "source": [
    "import time\n",
    "startTime = time.time()\n",
    "meds = GetMeds(3)\n",
    "endTime = time.time()\n",
    "print (endTime-startTime)"
   ]
  },
  {
   "cell_type": "code",
   "execution_count": 175,
   "metadata": {},
   "outputs": [],
   "source": [
    "medsDF = pd.DataFrame(meds)\n",
    "medsDF = medsDF.iloc[1:]\n",
    "medsDF = medsDF.reset_index(drop = True)\n",
    "medsDF.to_csv(\"tokenminer_results.csv\", encoding = \"utf-8\")"
   ]
  },
  {
   "cell_type": "code",
   "execution_count": 38,
   "metadata": {},
   "outputs": [
    {
     "data": {
      "text/plain": [
       "'vera abbott bed four under dr liu come in with chest pain with history of stroke previous chest pain asthma cataract glaucoma almost blind need assistance nitros with effect still under monitoring'"
      ]
     },
     "execution_count": 38,
     "metadata": {},
     "output_type": "execute_result"
    }
   ],
   "source": [
    "data[\"TextToken\"][1]"
   ]
  },
  {
   "cell_type": "code",
   "execution_count": 77,
   "metadata": {},
   "outputs": [
    {
     "name": "stdout",
     "output_type": "stream",
     "text": [
      "[('vera', 'NN'), ('abbott', 'NN'), ('bed', 'VBD'), ('four', 'CD'), ('under', 'IN')]\n",
      "{'vera'}\n",
      "{'vera', 'abbott'}\n"
     ]
    },
    {
     "ename": "TypeError",
     "evalue": "'>=' not supported between instances of 'set' and 'int'",
     "output_type": "error",
     "traceback": [
      "\u001b[1;31m---------------------------------------------------------------------------\u001b[0m",
      "\u001b[1;31mTypeError\u001b[0m                                 Traceback (most recent call last)",
      "\u001b[1;32m<ipython-input-77-5646e519dd51>\u001b[0m in \u001b[0;36m<module>\u001b[1;34m()\u001b[0m\n\u001b[0;32m      1\u001b[0m \u001b[0mtags\u001b[0m \u001b[1;33m=\u001b[0m \u001b[0mnltk\u001b[0m\u001b[1;33m.\u001b[0m\u001b[0mpos_tag\u001b[0m\u001b[1;33m(\u001b[0m\u001b[1;33m[\u001b[0m\u001b[1;34m'vera'\u001b[0m\u001b[1;33m,\u001b[0m \u001b[1;34m'abbott'\u001b[0m\u001b[1;33m,\u001b[0m \u001b[1;34m'bed'\u001b[0m\u001b[1;33m,\u001b[0m \u001b[1;34m'four'\u001b[0m\u001b[1;33m,\u001b[0m \u001b[1;34m'under'\u001b[0m\u001b[1;33m]\u001b[0m\u001b[1;33m)\u001b[0m\u001b[1;33m\u001b[0m\u001b[0m\n\u001b[0;32m      2\u001b[0m \u001b[0mprint\u001b[0m \u001b[1;33m(\u001b[0m\u001b[0mtags\u001b[0m\u001b[1;33m)\u001b[0m\u001b[1;33m\u001b[0m\u001b[0m\n\u001b[1;32m----> 3\u001b[1;33m \u001b[0mprint\u001b[0m \u001b[1;33m(\u001b[0m\u001b[0mGetNoun\u001b[0m\u001b[1;33m(\u001b[0m\u001b[1;33m[\u001b[0m\u001b[1;34m'vera'\u001b[0m\u001b[1;33m,\u001b[0m \u001b[1;34m'abbott'\u001b[0m\u001b[1;33m,\u001b[0m \u001b[1;34m'bed'\u001b[0m\u001b[1;33m,\u001b[0m \u001b[1;34m'four'\u001b[0m\u001b[1;33m,\u001b[0m \u001b[1;34m'under'\u001b[0m\u001b[1;33m]\u001b[0m\u001b[1;33m)\u001b[0m\u001b[1;33m)\u001b[0m\u001b[1;33m\u001b[0m\u001b[0m\n\u001b[0m",
      "\u001b[1;32m<ipython-input-72-8cae73c7d399>\u001b[0m in \u001b[0;36mGetNoun\u001b[1;34m(tokens)\u001b[0m\n\u001b[0;32m      8\u001b[0m             \u001b[0moutput\u001b[0m\u001b[1;33m.\u001b[0m\u001b[0madd\u001b[0m\u001b[1;33m(\u001b[0m\u001b[0mi\u001b[0m\u001b[1;33m[\u001b[0m\u001b[1;36m0\u001b[0m\u001b[1;33m]\u001b[0m\u001b[1;33m)\u001b[0m\u001b[1;33m\u001b[0m\u001b[0m\n\u001b[0;32m      9\u001b[0m             \u001b[0mprint\u001b[0m \u001b[1;33m(\u001b[0m\u001b[0moutput\u001b[0m\u001b[1;33m)\u001b[0m\u001b[1;33m\u001b[0m\u001b[0m\n\u001b[1;32m---> 10\u001b[1;33m     \u001b[1;32mif\u001b[0m \u001b[0mlen\u001b[0m\u001b[1;33m(\u001b[0m\u001b[0moutput\u001b[0m \u001b[1;33m>=\u001b[0m \u001b[1;36m0\u001b[0m\u001b[1;33m)\u001b[0m\u001b[1;33m:\u001b[0m\u001b[1;33m\u001b[0m\u001b[0m\n\u001b[0m\u001b[0;32m     11\u001b[0m         \u001b[1;32mreturn\u001b[0m \u001b[0mlist\u001b[0m\u001b[1;33m(\u001b[0m\u001b[0moutput\u001b[0m\u001b[1;33m)\u001b[0m\u001b[1;33m\u001b[0m\u001b[0m\n",
      "\u001b[1;31mTypeError\u001b[0m: '>=' not supported between instances of 'set' and 'int'"
     ]
    }
   ],
   "source": [
    "tags = nltk.pos_tag(['vera', 'abbott', 'bed', 'four', 'under'])\n",
    "print (tags)\n",
    "print (GetNoun(['vera', 'abbott', 'bed', 'four', 'under']))"
   ]
  },
  {
   "cell_type": "code",
   "execution_count": 150,
   "metadata": {},
   "outputs": [
    {
     "name": "stdout",
     "output_type": "stream",
     "text": [
      "yes\n"
     ]
    }
   ],
   "source": [
    "if \"of\" in antiTokens.iloc[:,0].values:\n",
    "    print (\"yes\")"
   ]
  }
 ],
 "metadata": {
  "kernelspec": {
   "display_name": "Python 3",
   "language": "python",
   "name": "python3"
  },
  "language_info": {
   "codemirror_mode": {
    "name": "ipython",
    "version": 3
   },
   "file_extension": ".py",
   "mimetype": "text/x-python",
   "name": "python",
   "nbconvert_exporter": "python",
   "pygments_lexer": "ipython3",
   "version": "3.6.3"
  }
 },
 "nbformat": 4,
 "nbformat_minor": 2
}
