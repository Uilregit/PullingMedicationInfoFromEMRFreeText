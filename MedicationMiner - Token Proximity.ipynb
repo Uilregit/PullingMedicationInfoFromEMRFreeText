{
 "cells": [
  {
   "cell_type": "code",
   "execution_count": 4,
   "metadata": {},
   "outputs": [
    {
     "name": "stdout",
     "output_type": "stream",
     "text": [
      "   Unnamed: 0                                                  0\n",
      "0           0  bed eight michael wu forty eight year under dr...\n",
      "1           1  vera abbott bed four under dr liu come in with...\n",
      "2           2  cindy benedictos bed under dr smtih come in fo...\n",
      "3           3  bed jane morgan under dr tilney with acute ren...\n",
      "4           4  ramanathan nisha pillai bed year old under dr ...\n",
      "   Unnamed: 0          0              1    2    3    4    5    6    7    8  \\\n",
      "0           0        NaN            NaN  NaN  NaN  NaN  NaN  NaN  NaN  NaN   \n",
      "1           1     nitros            NaN  NaN  NaN  NaN  NaN  NaN  NaN  NaN   \n",
      "2           2  education        insulin  NaN  NaN  NaN  NaN  NaN  NaN  NaN   \n",
      "3           3     ivlabs  antibiotitics  NaN  NaN  NaN  NaN  NaN  NaN  NaN   \n",
      "4           4        NaN            NaN  NaN  NaN  NaN  NaN  NaN  NaN  NaN   \n",
      "\n",
      "  ...    14   15   16   17   18   19   20   21   22   23  \n",
      "0 ...   NaN  NaN  NaN  NaN  NaN  NaN  NaN  NaN  NaN  NaN  \n",
      "1 ...   NaN  NaN  NaN  NaN  NaN  NaN  NaN  NaN  NaN  NaN  \n",
      "2 ...   NaN  NaN  NaN  NaN  NaN  NaN  NaN  NaN  NaN  NaN  \n",
      "3 ...   NaN  NaN  NaN  NaN  NaN  NaN  NaN  NaN  NaN  NaN  \n",
      "4 ...   NaN  NaN  NaN  NaN  NaN  NaN  NaN  NaN  NaN  NaN  \n",
      "\n",
      "[5 rows x 25 columns]\n"
     ]
    }
   ],
   "source": [
    "import pandas as pd\n",
    "\n",
    "texts = pd.read_csv(\"TokenizedAll.csv\")\n",
    "labels = pd.read_csv(\"LabeledAll.csv\")\n",
    "\n",
    "print (texts.head())\n",
    "print (labels.head())"
   ]
  },
  {
   "cell_type": "code",
   "execution_count": null,
   "metadata": {
    "collapsed": true
   },
   "outputs": [],
   "source": []
  }
 ],
 "metadata": {
  "kernelspec": {
   "display_name": "Python 3",
   "language": "python",
   "name": "python3"
  },
  "language_info": {
   "codemirror_mode": {
    "name": "ipython",
    "version": 3
   },
   "file_extension": ".py",
   "mimetype": "text/x-python",
   "name": "python",
   "nbconvert_exporter": "python",
   "pygments_lexer": "ipython3",
   "version": "3.6.3"
  }
 },
 "nbformat": 4,
 "nbformat_minor": 2
}
