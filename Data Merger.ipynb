{
 "cells": [
  {
   "cell_type": "code",
   "execution_count": 40,
   "metadata": {},
   "outputs": [
    {
     "name": "stdout",
     "output_type": "stream",
     "text": [
      "                                                   0\n",
      "0  bed eight michael wu forty eight year under dr...\n",
      "1  vera abbott bed four under dr liu come in with...\n",
      "2  cindy benedictos bed under dr smtih come in fo...\n",
      "3  bed jane morgan under dr tilney with acute ren...\n",
      "4  ramanathan nisha pillai bed year old under dr ...\n",
      "                    Meds\n",
      "0                    NaN\n",
      "1                 nitros\n",
      "2     education, insulin\n",
      "3  ivlabs, antibiotitics\n",
      "4                    NaN\n"
     ]
    }
   ],
   "source": [
    "import pandas as pd\n",
    "\n",
    "texts = pd.read_csv(\"TokenizedAll.csv\", index_col = 0)\n",
    "labels = pd.read_csv(\"LabeledAll.csv\", index_col = 0)\n",
    "\n",
    "print (texts.head())\n",
    "print (labels.head())"
   ]
  },
  {
   "cell_type": "code",
   "execution_count": 46,
   "metadata": {},
   "outputs": [
    {
     "data": {
      "text/html": [
       "<div>\n",
       "<style>\n",
       "    .dataframe thead tr:only-child th {\n",
       "        text-align: right;\n",
       "    }\n",
       "\n",
       "    .dataframe thead th {\n",
       "        text-align: left;\n",
       "    }\n",
       "\n",
       "    .dataframe tbody tr th {\n",
       "        vertical-align: top;\n",
       "    }\n",
       "</style>\n",
       "<table border=\"1\" class=\"dataframe\">\n",
       "  <thead>\n",
       "    <tr style=\"text-align: right;\">\n",
       "      <th></th>\n",
       "      <th>TextOrig</th>\n",
       "      <th>TextToken</th>\n",
       "      <th>Labels</th>\n",
       "    </tr>\n",
       "  </thead>\n",
       "  <tbody>\n",
       "    <tr>\n",
       "      <th>0</th>\n",
       "      <td>Bed eight, Michael I Wu. Forty-eight years un...</td>\n",
       "      <td>bed eight michael wu forty eight year under dr...</td>\n",
       "      <td>NaN</td>\n",
       "    </tr>\n",
       "    <tr>\n",
       "      <th>1</th>\n",
       "      <td>Vera Abbott, 93, bed four, under Dr Liu came ...</td>\n",
       "      <td>vera abbott bed four under dr liu come in with...</td>\n",
       "      <td>nitros</td>\n",
       "    </tr>\n",
       "    <tr>\n",
       "      <th>2</th>\n",
       "      <td>Cindy Benedictos, bed 1, under Dr Smtih, came...</td>\n",
       "      <td>cindy benedictos bed under dr smtih come in fo...</td>\n",
       "      <td>education, insulin</td>\n",
       "    </tr>\n",
       "    <tr>\n",
       "      <th>3</th>\n",
       "      <td>This is bed 4. Jane morgan, 24, under Dr Tiln...</td>\n",
       "      <td>bed jane morgan under dr tilney with acute ren...</td>\n",
       "      <td>ivlabs, antibiotitics</td>\n",
       "    </tr>\n",
       "    <tr>\n",
       "      <th>4</th>\n",
       "      <td>Ramanathan Nisha Pillai, bed 1, 46 years old ...</td>\n",
       "      <td>ramanathan nisha pillai bed year old under dr ...</td>\n",
       "      <td>NaN</td>\n",
       "    </tr>\n",
       "  </tbody>\n",
       "</table>\n",
       "</div>"
      ],
      "text/plain": [
       "                                            TextOrig  \\\n",
       "0   Bed eight, Michael I Wu. Forty-eight years un...   \n",
       "1   Vera Abbott, 93, bed four, under Dr Liu came ...   \n",
       "2   Cindy Benedictos, bed 1, under Dr Smtih, came...   \n",
       "3   This is bed 4. Jane morgan, 24, under Dr Tiln...   \n",
       "4   Ramanathan Nisha Pillai, bed 1, 46 years old ...   \n",
       "\n",
       "                                           TextToken                 Labels  \n",
       "0  bed eight michael wu forty eight year under dr...                    NaN  \n",
       "1  vera abbott bed four under dr liu come in with...                 nitros  \n",
       "2  cindy benedictos bed under dr smtih come in fo...     education, insulin  \n",
       "3  bed jane morgan under dr tilney with acute ren...  ivlabs, antibiotitics  \n",
       "4  ramanathan nisha pillai bed year old under dr ...                    NaN  "
      ]
     },
     "execution_count": 46,
     "metadata": {},
     "output_type": "execute_result"
    }
   ],
   "source": [
    "data1 = pd.read_csv(\"Test1+2Formatted.csv\")\n",
    "data2 = pd.read_csv(\"Test3Formatted.csv\")\n",
    "data3 = pd.read_csv(\"mt_chart.csv\")\n",
    "data4 = pd.read_csv(\"mt_discharge.csv\")\n",
    "data1 = data1[\"FreeText\"]\n",
    "data2 = data2[\"FreeText\"]\n",
    "data3 = data3[\"transcription\"]\n",
    "data4 = data4[\"transcription\"]\n",
    "\n",
    "text = data1.append(data2).append(data3).append(data4)\n",
    "text = text.reset_index(drop = True)\n",
    "\n",
    "outputDF = pd.DataFrame()\n",
    "outputDF[\"TextOrig\"] = text\n",
    "outputDF[\"TextToken\"] = texts\n",
    "outputDF[\"Labels\"] = labels\n",
    "\n",
    "outputDF.to_csv(\"DataAll.csv\", encoding = \"utf-8\")\n",
    "\n",
    "outputDF.head()"
   ]
  }
 ],
 "metadata": {
  "kernelspec": {
   "display_name": "Python 3",
   "language": "python",
   "name": "python3"
  },
  "language_info": {
   "codemirror_mode": {
    "name": "ipython",
    "version": 3
   },
   "file_extension": ".py",
   "mimetype": "text/x-python",
   "name": "python",
   "nbconvert_exporter": "python",
   "pygments_lexer": "ipython3",
   "version": "3.6.3"
  }
 },
 "nbformat": 4,
 "nbformat_minor": 2
}
