{
 "cells": [
  {
   "cell_type": "code",
   "execution_count": 181,
   "metadata": {},
   "outputs": [
    {
     "name": "stdout",
     "output_type": "stream",
     "text": [
      "                                   Meds\n",
      "0                                   NaN\n",
      "1                                nitros\n",
      "2                    education, insulin\n",
      "4                                   NaN\n",
      "11             antiemetics, pain relief\n",
      "14                           food chart\n",
      "15                   anginine, morphine\n",
      "16                               oxygen\n",
      "17                                  NaN\n",
      "19                                  NaN\n",
      "24                           apperients\n",
      "32                                  NaN\n",
      "33               puffers, nebs, clexane\n",
      "36                                  NaN\n",
      "41                                  NaN\n",
      "42                               oxygen\n",
      "43                               physio\n",
      "46                                  NaN\n",
      "50                     endone, morphine\n",
      "52  paracetamol, endone, metoclopramide\n",
      "                                                    0\n",
      "0   brain,time,obs,dr,gc,face,woden,bit,ambulant,s...\n",
      "1   assistance,need,glaucoma,stroke,asthma,pain,hi...\n",
      "2   adjust,bgls,tomorrow,dr,flunctuating,cholester...\n",
      "4   regimen,come,arrythmia,week,smith,history,prob...\n",
      "11  nausea,weakness,screen,place,stbale,breast,ob,...\n",
      "14  food,referral,care,grievance,review,heart,dali...\n",
      "15  anginine,review,heart,doctor,pain,chest,dr,sta...\n",
      "16  op,shortness,qid,prong,monitoring,tachy,tiredn...\n",
      "17       come,assist,retirement,minimal,query,adls,dr\n",
      "19  relate,hour,digestion,tiredness,mill,investiga...\n",
      "24  effect,vre,attack,mrsa,swab,care,come,constipa...\n",
      "32  mouth,bit,breathe,allergic,peanuts,difficulty,...\n",
      "33  await,attack,relate,diet,caring,neb,yr,puffer,...\n",
      "36  ct,note,monitoring,function,hodgings,rule,test...\n",
      "41  transplant,dr,xray,allright,suspect,aspergillo...\n",
      "42  dr,accident,swim,infection,mask,kenzie,oxygen,...\n",
      "43  diabetes,sleep,dr,care,find,overweight,get,sta...\n",
      "46            heart,hospital,month,arrange,surgery,dr\n",
      "50  nil,score,photophobic,complain,ob,brain,tomorr...\n",
      "52  nausea,paracetamol,come,care,self,complaint,sh...\n"
     ]
    }
   ],
   "source": [
    "import pandas as pd\n",
    "\n",
    "truth = pd.read_csv(\"LabelsTest.csv\", index_col = 0)\n",
    "guess = pd.read_csv(\"tokenminer_results.csv\",index_col = 0, header = 0)\n",
    "#guess = pd.DataFrame(guess.iloc[:,1])\n",
    "\n",
    "print (truth.head(20))\n",
    "print (guess.head(20))"
   ]
  },
  {
   "cell_type": "code",
   "execution_count": 182,
   "metadata": {},
   "outputs": [],
   "source": [
    "import Levenshtein as lv\n",
    "def checkIfLabelsInList (labels, target, threshold):\n",
    "    if labels == [\"\"]:\n",
    "        return []\n",
    "    else:\n",
    "        labels = [i.lower() for i in labels]\n",
    "    if target == [\"\"]:\n",
    "        return [False for i in labels]\n",
    "    output = []\n",
    "    for item in labels:\n",
    "        if item in target:   #if exact match then return 0\n",
    "            output += [True]\n",
    "        elif item == \"\":\n",
    "            output += []\n",
    "        else:                   #if not an exact match\n",
    "            levenDist = []\n",
    "            wordsInLabels = len(item.split(\" \"))  #checks for multiword labels\n",
    "            for i in range(len(target)-wordsInLabels+1):\n",
    "                levenDist += [lv.distance(item, \" \".join(target[i:i+wordsInLabels]))]    #checks for misspellings\n",
    "            \"\"\" #Debug Prints\n",
    "            print (item)\n",
    "            print (target)\n",
    "            print (levenDist)\n",
    "            print (\"#################\")\n",
    "            \"\"\"\n",
    "            if (min(levenDist)/float(len(item)) <= threshold):\n",
    "                output += [True]\n",
    "            else:\n",
    "                output += [False]\n",
    "    return output"
   ]
  },
  {
   "cell_type": "code",
   "execution_count": 183,
   "metadata": {},
   "outputs": [
    {
     "name": "stdout",
     "output_type": "stream",
     "text": [
      "True Positives: 351\n",
      "False Positives: 7406\n",
      "False Negatives: 135\n",
      "Precision: 0.045249452107773626\n",
      "Recall: 0.7222222222222222\n",
      "F1: 0.021290792187310448\n"
     ]
    }
   ],
   "source": [
    "truePositives = 0\n",
    "totalGuessList = 0\n",
    "totalTruthList = 0\n",
    "for i in guess.index:\n",
    "    try:\n",
    "        guessList = guess.loc[i].values[0].replace(\",\",\" \").split(\" \")\n",
    "    except AttributeError:\n",
    "        guessList = [\"\"]\n",
    "    try:\n",
    "        truthList = truth.loc[i].values[0].replace(\", \",\" \").split(\" \")\n",
    "    except AttributeError:\n",
    "        truthList = [\"\"]\n",
    "    truePositives += sum(checkIfLabelsInList(guessList, truthList, 0.2))\n",
    "    totalGuessList += len(guessList)\n",
    "    totalTruthList += len(truthList)\n",
    "\n",
    "falsePositives = totalGuessList - truePositives\n",
    "falseNegatives = totalTruthList - truePositives\n",
    "precision = truePositives/float(totalGuessList)\n",
    "recall = truePositives/float(totalTruthList)\n",
    "\n",
    "print (\"True Positives:\", truePositives)\n",
    "print (\"False Positives:\", falsePositives)\n",
    "print (\"False Negatives:\", falseNegatives)\n",
    "print (\"Precision:\", precision)\n",
    "print (\"Recall:\", recall)\n",
    "print (\"F1:\", 0.5*precision*recall/(precision+recall))"
   ]
  },
  {
   "cell_type": "code",
   "execution_count": 108,
   "metadata": {},
   "outputs": [
    {
     "data": {
      "text/plain": [
       "[False,\n",
       " False,\n",
       " False,\n",
       " False,\n",
       " False,\n",
       " False,\n",
       " False,\n",
       " False,\n",
       " False,\n",
       " False,\n",
       " False,\n",
       " False,\n",
       " False,\n",
       " False,\n",
       " True,\n",
       " False,\n",
       " False,\n",
       " True,\n",
       " False,\n",
       " False,\n",
       " False,\n",
       " False,\n",
       " True,\n",
       " False,\n",
       " False,\n",
       " False,\n",
       " False,\n",
       " True,\n",
       " False,\n",
       " False,\n",
       " False,\n",
       " False,\n",
       " False,\n",
       " False,\n",
       " False,\n",
       " False,\n",
       " False,\n",
       " False,\n",
       " False,\n",
       " False,\n",
       " False,\n",
       " False,\n",
       " False]"
      ]
     },
     "execution_count": 108,
     "metadata": {},
     "output_type": "execute_result"
    }
   ],
   "source": [
    "checkIfLabelsInList (['note', 'dose', 'caring', 'review', 'doctor', 'bgls', 'childhood', 'high', 'dr', 'bad', 'bp', 'range', 'dm', 'liu', 'insulin', 'normal', 'next', 'diabetic', 'problem', 'bgl', 'self', 'type', 'diabetes', 'ambulant', 'come', 'da', 'blood', 'educator', 'team', 'history', 'ask', 'management', 'much', 'referral', 'depend', 'care', 'silva', 'scale', 'sugar', 'trend', 'hpn', 'slide', 'variable'],['diabetic', 'educator', 'insulin'],2)"
   ]
  },
  {
   "cell_type": "code",
   "execution_count": 111,
   "metadata": {},
   "outputs": [
    {
     "name": "stdout",
     "output_type": "stream",
     "text": [
      "8\n"
     ]
    }
   ],
   "source": [
    "print(len(\"diabetes\"))"
   ]
  }
 ],
 "metadata": {
  "kernelspec": {
   "display_name": "Python 3",
   "language": "python",
   "name": "python3"
  },
  "language_info": {
   "codemirror_mode": {
    "name": "ipython",
    "version": 3
   },
   "file_extension": ".py",
   "mimetype": "text/x-python",
   "name": "python",
   "nbconvert_exporter": "python",
   "pygments_lexer": "ipython3",
   "version": "3.6.3"
  }
 },
 "nbformat": 4,
 "nbformat_minor": 2
}
