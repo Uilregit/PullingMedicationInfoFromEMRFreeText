{
 "cells": [
  {
   "cell_type": "code",
   "execution_count": 18,
   "metadata": {},
   "outputs": [
    {
     "name": "stdout",
     "output_type": "stream",
     "text": [
      "                    Meds\n",
      "0                    NaN\n",
      "1                 nitros\n",
      "2     education, insulin\n",
      "3  ivlabs, antibiotitics\n",
      "4                    NaN\n",
      "                                         1\n",
      "0                 bit,time,suppose,morning\n",
      "1                                      NaN\n",
      "2          management,qid,tomorrow,pm,plan\n",
      "3  dr,ob,stable,get,plan,change,antibiotic\n",
      "4              week,before,management,plan\n",
      "Int64Index([1], dtype='int64')\n"
     ]
    }
   ],
   "source": [
    "import pandas as pd\n",
    "\n",
    "truth = pd.read_csv(\"LabeledAll.csv\", index_col = 0)\n",
    "guess = pd.read_csv(\"med2vec_results.csv\", header = None)\n",
    "guess = pd.DataFrame(guess[1])\n",
    "\n",
    "print (truth.head())\n",
    "print (guess.head())"
   ]
  },
  {
   "cell_type": "code",
   "execution_count": 86,
   "metadata": {},
   "outputs": [],
   "source": [
    "import Levenshtein as lv\n",
    "def checkIfLabelsInList (labels, target, threshold):\n",
    "    if labels == [\"\"]:\n",
    "        return []\n",
    "    else:\n",
    "        labels = [i.lower() for i in labels]\n",
    "    if target == [\"\"]:\n",
    "        return [False for i in labels]\n",
    "    output = []\n",
    "    for item in labels:\n",
    "        if item in target:   #if exact match then return 0\n",
    "            output += [True]\n",
    "        else:                   #if not an exact match\n",
    "            levenDist = []\n",
    "            wordsInLabels = len(item.split(\" \"))  #checks for multiword labels\n",
    "            for i in range(len(target)-wordsInLabels+1):\n",
    "                levenDist += [lv.distance(item, \" \".join(target[i:i+wordsInLabels]))]    #checks for misspellings\n",
    "            \"\"\" #Debug Prints\n",
    "            print (item)\n",
    "            print (target)\n",
    "            print (levenDist)\n",
    "            print (\"#################\")\n",
    "            \"\"\"\n",
    "            if (min(levenDist) <= threshold):\n",
    "                output += [True]\n",
    "            else:\n",
    "                output += [False]\n",
    "    return output"
   ]
  },
  {
   "cell_type": "code",
   "execution_count": 87,
   "metadata": {},
   "outputs": [
    {
     "name": "stdout",
     "output_type": "stream",
     "text": [
      "True Positives: 712\n",
      "False Positives: 3153\n",
      "False Negatives: 1010\n",
      "Precision: 0.18421733505821475\n",
      "Recall: 0.413472706155633\n"
     ]
    }
   ],
   "source": [
    "truePositives = 0\n",
    "totalGuessList = 0\n",
    "totalTruthList = 0\n",
    "for i in range(len(guess)):\n",
    "    try:\n",
    "        guessList = guess.iloc[i].values[0].replace(\",\",\" \").split(\" \")\n",
    "    except AttributeError:\n",
    "        guessList = [\"\"]\n",
    "    try:\n",
    "        truthList = truth.iloc[i].values[0].replace(\", \",\" \").split(\" \")\n",
    "    except AttributeError:\n",
    "        truthList = [\"\"]\n",
    "    truePositives += sum(checkIfLabelsInList(guessList, truthList, 2))\n",
    "    totalGuessList += len(guessList)\n",
    "    totalTruthList += len(truthList)\n",
    "\n",
    "falsePositives = totalGuessList - truePositives\n",
    "falseNegatives = totalTruthList - truePositives\n",
    "\n",
    "print (\"True Positives:\", truePositives)\n",
    "print (\"False Positives:\", falsePositives)\n",
    "print (\"False Negatives:\", falseNegatives)\n",
    "print (\"Precision:\", truePositives/float(truePositives+falsePositives))\n",
    "print (\"Recall:\", truePositives/float(truePositives+falseNegatives))"
   ]
  },
  {
   "cell_type": "code",
   "execution_count": 75,
   "metadata": {},
   "outputs": [
    {
     "data": {
      "text/plain": [
       "[False]"
      ]
     },
     "execution_count": 75,
     "metadata": {},
     "output_type": "execute_result"
    }
   ],
   "source": [
    "checkIfLabelsInList ([\"apple\"],[\"\"],2)"
   ]
  },
  {
   "cell_type": "code",
   "execution_count": null,
   "metadata": {
    "collapsed": true
   },
   "outputs": [],
   "source": []
  }
 ],
 "metadata": {
  "kernelspec": {
   "display_name": "Python 3",
   "language": "python",
   "name": "python3"
  },
  "language_info": {
   "codemirror_mode": {
    "name": "ipython",
    "version": 3
   },
   "file_extension": ".py",
   "mimetype": "text/x-python",
   "name": "python",
   "nbconvert_exporter": "python",
   "pygments_lexer": "ipython3",
   "version": "3.6.3"
  }
 },
 "nbformat": 4,
 "nbformat_minor": 2
}
